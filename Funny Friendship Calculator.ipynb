{
 "cells": [
  {
   "cell_type": "code",
   "execution_count": 5,
   "metadata": {},
   "outputs": [
    {
     "name": "stdout",
     "output_type": "stream",
     "text": [
      "Enter your name give it a space and type in your friend's name: Ramayana Mahabharat\n",
      "Your friendship sore is:  139\n",
      "Congratulation! you both are best friends\n"
     ]
    }
   ],
   "source": [
    "alphabet = \"bcdfghjklmpqruvwxyz\" #removing most commonly used alphabets: e, t, a, i, n, o, s\n",
    "score = 0\n",
    "names = input(\"Enter your name give it a space and type in your friend's name: \").lower()\n",
    "for character in names:\n",
    "    if character in 'aeiou':\n",
    "        score += 5\n",
    "    if character in 'friends':\n",
    "        score += 10\n",
    "    if character in alphabet:\n",
    "        score += alphabet.find(character)\n",
    "    else:\n",
    "        score += 0\n",
    "if score > 100:\n",
    "    print(\"Your friendship sore is: \", score)\n",
    "    print(\"Congratulation! you both are best friends\")\n",
    "else:\n",
    "    print(\"Your friendship score is: \", score)"
   ]
  },
  {
   "cell_type": "markdown",
   "metadata": {},
   "source": [
    "## Run 1:\n",
    "Enter your name give it a space and type in your friend's name: Python java<br>\n",
    "Your friendship score is:  77\n",
    "\n",
    "## Run 2:\n",
    "Enter your name give it a space and type in your friend's name: Data Pirates<br>\n",
    "Your friendship score is:  99\n",
    "\n",
    "## Run 3:\n",
    "Enter your name give it a space and type in your friend's name: walter paige<br>\n",
    "Your friendship sore is:  114\n",
    "Congratulation! you both are best friends\n",
    "\n",
    "## Run 4:\n",
    "Enter your name give it a space and type in your friend's name: Ramayana Mahabharat<br>\n",
    "Your friendship sore is:  139\n",
    "Congratulation! you both are best friends"
   ]
  },
  {
   "cell_type": "markdown",
   "metadata": {},
   "source": [
    "-------------------------------------------------------------------------------------------------------------------------------"
   ]
  },
  {
   "cell_type": "code",
   "execution_count": null,
   "metadata": {},
   "outputs": [],
   "source": []
  }
 ],
 "metadata": {
  "kernelspec": {
   "display_name": "Python 3",
   "language": "python",
   "name": "python3"
  },
  "language_info": {
   "codemirror_mode": {
    "name": "ipython",
    "version": 3
   },
   "file_extension": ".py",
   "mimetype": "text/x-python",
   "name": "python",
   "nbconvert_exporter": "python",
   "pygments_lexer": "ipython3",
   "version": "3.7.6"
  }
 },
 "nbformat": 4,
 "nbformat_minor": 2
}
